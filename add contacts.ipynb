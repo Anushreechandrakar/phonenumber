{
 "cells": [
  {
   "cell_type": "code",
   "execution_count": null,
   "id": "50d858fe",
   "metadata": {},
   "outputs": [],
   "source": [
    "import tkinter as tk\n",
    "from tkinter import *\n",
    "from tkinter import messagebox as mb\n",
    "\n",
    "\n",
    "root = tk.Tk()\n",
    "bg_image = PhotoImage(file=\"ana.png\")\n",
    "bg_label = Label(root, image=bg_image)\n",
    "bg_label.place(x=0, y=0, relwidth=1, relheight=1)\n",
    "root.title(\"Contact List\")\n",
    "name_label = tk.Label(root, text=\"Name:\")\n",
    "name_label.grid(row=0, column=0)\n",
    "\n",
    "name_entry = tk.Entry(root)\n",
    "name_entry.grid(row=0, column=1)\n",
    "\n",
    "phone_label = tk.Label(root, text=\"Phone Number:\")\n",
    "phone_label.grid(row=1, column=0)\n",
    "\n",
    "phone_entry = tk.Entry(root)\n",
    "phone_entry.grid(row=1, column=1)\n",
    "\n",
    "contact_list = tk.Listbox(root)\n",
    "contact_list.grid(row=2, column=0, columnspan=2, padx=10, pady=10)\n",
    "\n",
    "scrollbar = tk.Scrollbar(root)\n",
    "scrollbar.grid(row=2, column=2, sticky=\"NS\")\n",
    "\n",
    "contact_list.config(yscrollcommand=scrollbar.set)\n",
    "scrollbar.config(command=contact_list.yview)\n",
    "\n",
    "def add_contact():\n",
    "    name = name_entry.get()\n",
    "    phone = phone_entry.get()\n",
    "    if name and phone:\n",
    "        contact_list.insert(tk.END, f\"{name} ({phone})\")\n",
    "        name_entry.delete(0, tk.END)\n",
    "        phone_entry.delete(0, tk.END)\n",
    "\n",
    "add_button = tk.Button(root, text=\"Add Contact\", command=add_contact)\n",
    "add_button.grid(row=3, column=0, padx=10, pady=10)\n",
    "\n",
    "def delete_contact():\n",
    "    selected_contact = contact_list.curselection()\n",
    "    if selected_contact:\n",
    "        contact_list.delete(selected_contact)\n",
    "\n",
    "delete_button = tk.Button(root, text=\"Delete Contact\",command=delete_contact)\n",
    "delete_button.grid(row=3, column=1, padx=10, pady=10)\n",
    "\n",
    "root.mainloop()\n"
   ]
  },
  {
   "cell_type": "code",
   "execution_count": null,
   "id": "67313721",
   "metadata": {},
   "outputs": [],
   "source": []
  },
  {
   "cell_type": "code",
   "execution_count": null,
   "id": "7a6019f9",
   "metadata": {},
   "outputs": [],
   "source": []
  }
 ],
 "metadata": {
  "kernelspec": {
   "display_name": "Python 3 (ipykernel)",
   "language": "python",
   "name": "python3"
  },
  "language_info": {
   "codemirror_mode": {
    "name": "ipython",
    "version": 3
   },
   "file_extension": ".py",
   "mimetype": "text/x-python",
   "name": "python",
   "nbconvert_exporter": "python",
   "pygments_lexer": "ipython3",
   "version": "3.9.13"
  }
 },
 "nbformat": 4,
 "nbformat_minor": 5
}
